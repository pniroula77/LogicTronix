{
 "cells": [
  {
   "cell_type": "markdown",
   "id": "popular-barcelona",
   "metadata": {},
   "source": [
    "The solution is made using list of Python. Here Numpy is used only to return the result as numpy array."
   ]
  },
  {
   "cell_type": "code",
   "execution_count": 135,
   "id": "indie-carry",
   "metadata": {},
   "outputs": [],
   "source": [
    "import numpy as np"
   ]
  },
  {
   "cell_type": "code",
   "execution_count": 284,
   "id": "greenhouse-thumb",
   "metadata": {},
   "outputs": [],
   "source": [
    "global b \n",
    "b  = []\n",
    "def find_soln(states):\n",
    "    \n",
    "    for items in states:\n",
    "        assert len(items) == 5\n",
    "        b.append(items)\n",
    "\n",
    "    if len(b) < 3:\n",
    "        return None\n",
    "    elif len(b) == 3:\n",
    "        result = [ele for ele in reversed(b)]\n",
    "        return np.array(result)\n",
    "    else:\n",
    "        result = [ele for ele in reversed(b)]\n",
    "        return np.array(result[:3])\n",
    "    "
   ]
  },
  {
   "cell_type": "code",
   "execution_count": 285,
   "id": "centered-minister",
   "metadata": {},
   "outputs": [],
   "source": [
    "a = find_soln([[1,2,3,4,5]])"
   ]
  },
  {
   "cell_type": "code",
   "execution_count": 286,
   "id": "trying-baseline",
   "metadata": {},
   "outputs": [
    {
     "name": "stdout",
     "output_type": "stream",
     "text": [
      "None\n"
     ]
    }
   ],
   "source": [
    "print(a)"
   ]
  },
  {
   "cell_type": "code",
   "execution_count": 287,
   "id": "hydraulic-association",
   "metadata": {},
   "outputs": [],
   "source": [
    "c = find_soln([[4,5,6,7,8]])"
   ]
  },
  {
   "cell_type": "code",
   "execution_count": 288,
   "id": "metallic-building",
   "metadata": {},
   "outputs": [
    {
     "name": "stdout",
     "output_type": "stream",
     "text": [
      "None\n"
     ]
    }
   ],
   "source": [
    "print(c)"
   ]
  },
  {
   "cell_type": "code",
   "execution_count": 289,
   "id": "developed-objective",
   "metadata": {},
   "outputs": [],
   "source": [
    "d = find_soln([[0,3,5,2,1]])"
   ]
  },
  {
   "cell_type": "code",
   "execution_count": 290,
   "id": "tamil-bradford",
   "metadata": {},
   "outputs": [
    {
     "name": "stdout",
     "output_type": "stream",
     "text": [
      "[[0 3 5 2 1]\n",
      " [4 5 6 7 8]\n",
      " [1 2 3 4 5]]\n"
     ]
    }
   ],
   "source": [
    "print(d)"
   ]
  },
  {
   "cell_type": "code",
   "execution_count": 291,
   "id": "piano-equipment",
   "metadata": {},
   "outputs": [],
   "source": [
    "e = find_soln([[11,12,13,14,15]])"
   ]
  },
  {
   "cell_type": "code",
   "execution_count": 292,
   "id": "wrong-flexibility",
   "metadata": {},
   "outputs": [
    {
     "name": "stdout",
     "output_type": "stream",
     "text": [
      "[[11 12 13 14 15]\n",
      " [ 0  3  5  2  1]\n",
      " [ 4  5  6  7  8]]\n"
     ]
    }
   ],
   "source": [
    "print(e)"
   ]
  },
  {
   "cell_type": "code",
   "execution_count": 293,
   "id": "removed-nature",
   "metadata": {},
   "outputs": [],
   "source": [
    "f = find_soln([[2,3,4,0,0]])"
   ]
  },
  {
   "cell_type": "code",
   "execution_count": 294,
   "id": "active-therapist",
   "metadata": {},
   "outputs": [
    {
     "name": "stdout",
     "output_type": "stream",
     "text": [
      "[[ 2  3  4  0  0]\n",
      " [11 12 13 14 15]\n",
      " [ 0  3  5  2  1]]\n"
     ]
    }
   ],
   "source": [
    "print(f)"
   ]
  },
  {
   "cell_type": "code",
   "execution_count": null,
   "id": "dress-terrace",
   "metadata": {},
   "outputs": [],
   "source": []
  },
  {
   "cell_type": "code",
   "execution_count": null,
   "id": "ambient-question",
   "metadata": {},
   "outputs": [],
   "source": []
  }
 ],
 "metadata": {
  "kernelspec": {
   "display_name": "Python 3",
   "language": "python",
   "name": "python3"
  },
  "language_info": {
   "codemirror_mode": {
    "name": "ipython",
    "version": 3
   },
   "file_extension": ".py",
   "mimetype": "text/x-python",
   "name": "python",
   "nbconvert_exporter": "python",
   "pygments_lexer": "ipython3",
   "version": "3.8.5"
  }
 },
 "nbformat": 4,
 "nbformat_minor": 5
}
