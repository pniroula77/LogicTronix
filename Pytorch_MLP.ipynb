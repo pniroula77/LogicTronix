{
  "nbformat": 4,
  "nbformat_minor": 0,
  "metadata": {
    "kernelspec": {
      "display_name": "Python 3",
      "language": "python",
      "name": "python3"
    },
    "language_info": {
      "codemirror_mode": {
        "name": "ipython",
        "version": 3
      },
      "file_extension": ".py",
      "mimetype": "text/x-python",
      "name": "python",
      "nbconvert_exporter": "python",
      "pygments_lexer": "ipython3",
      "version": "3.7.6"
    },
    "colab": {
      "name": "Pytorch_MLP.ipynb",
      "provenance": [],
      "collapsed_sections": []
    }
  },
  "cells": [
    {
      "cell_type": "code",
      "metadata": {
        "id": "owm63-MCi954",
        "colab": {
          "base_uri": "https://localhost:8080/",
          "height": 121
        },
        "outputId": "77cf7c30-e3dd-4a9f-e8e2-2d8d18e16827"
      },
      "source": [
        "from google.colab import drive\n",
        "drive.mount('/content/drive')\n"
      ],
      "execution_count": null,
      "outputs": [
        {
          "output_type": "stream",
          "text": [
            "Go to this URL in a browser: https://accounts.google.com/o/oauth2/auth?client_id=947318989803-6bn6qk8qdgf4n4g3pfee6491hc0brc4i.apps.googleusercontent.com&redirect_uri=urn%3aietf%3awg%3aoauth%3a2.0%3aoob&response_type=code&scope=email%20https%3a%2f%2fwww.googleapis.com%2fauth%2fdocs.test%20https%3a%2f%2fwww.googleapis.com%2fauth%2fdrive%20https%3a%2f%2fwww.googleapis.com%2fauth%2fdrive.photos.readonly%20https%3a%2f%2fwww.googleapis.com%2fauth%2fpeopleapi.readonly\n",
            "\n",
            "Enter your authorization code:\n",
            "··········\n",
            "Mounted at /content/drive\n"
          ],
          "name": "stdout"
        }
      ]
    },
    {
      "cell_type": "code",
      "metadata": {
        "id": "Z0atm1G3jAJY"
      },
      "source": [
        "import numpy as np \n",
        "import pandas as pd \n",
        "import matplotlib.pyplot as plt \n",
        "%matplotlib inline \n",
        "from sklearn.model_selection import train_test_split\n",
        "from sklearn.preprocessing import StandardScaler\n",
        "from sklearn.utils import shuffle\n",
        "import torch\n",
        "import torchvision.transforms as transforms\n",
        "from torch.autograd import Variable\n",
        "from time import time"
      ],
      "execution_count": null,
      "outputs": []
    },
    {
      "cell_type": "code",
      "metadata": {
        "id": "locx8_0fi959"
      },
      "source": [
        "csfont = {'fontname':'Nirmala UI'}"
      ],
      "execution_count": null,
      "outputs": []
    },
    {
      "cell_type": "markdown",
      "metadata": {
        "id": "2tGtt1YJi96A"
      },
      "source": [
        "## Function that returns train,validation and test dataloader "
      ]
    },
    {
      "cell_type": "code",
      "metadata": {
        "id": "PkVmstXei96B"
      },
      "source": [
        "sc = StandardScaler()\n",
        "def load_train_dataset():\n",
        "    train_df = pd.read_csv(\"/content/drive/My Drive/train_data.csv\")\n",
        "    \n",
        "    #get the pixels in one variable and the target or label in another variable for classification problem\n",
        "    X = np.array(train_df.loc[:, train_df.columns != 'Label'].values)/255\n",
        "#     X = sc.fit_transform(X)\n",
        "    y = np.array(train_df['Label'].values)\n",
        "\n",
        "    \n",
        "    #split the data into train and validation set. 80% for training and rest for validation\n",
        "    features_train, features_val, targets_train, targets_val = train_test_split(X,y,test_size=0.2)\n",
        "    X_train = torch.from_numpy(features_train).type(torch.float)\n",
        "    X_val = torch.from_numpy(features_val).type(torch.float)\n",
        "\n",
        "    Y_train = torch.from_numpy(targets_train)\n",
        "    Y_val = torch.from_numpy(targets_val)\n",
        "\n",
        "\n",
        "    train = torch.utils.data.TensorDataset(X_train,Y_train)\n",
        "    val = torch.utils.data.TensorDataset(X_val,Y_val)\n",
        "\n",
        "\n",
        "    train_loader = torch.utils.data.DataLoader(train,shuffle=False,batch_size = 20)\n",
        "    val_loader = torch.utils.data.DataLoader(val,shuffle=False,batch_size = 20)\n",
        "       \n",
        "    \n",
        "    return train_loader,val_loader\n",
        "   \n",
        "\n",
        "def load_test_dataset():\n",
        "\n",
        "    test_df = pd.read_csv(\"/content/drive/My Drive/test_data.csv\")\n",
        "    \n",
        "    X = np.array(test_df.loc[:, test_df.columns != 'Label'].values)/255\n",
        "#     sc.fit_transform(X)\n",
        "    y = np.array(test_df['Label'].values)\n",
        "    \n",
        "    X = torch.from_numpy(X).type(torch.float)\n",
        "    y = torch.from_numpy(y)\n",
        "    test = torch.utils.data.TensorDataset(X,y)\n",
        "    \n",
        "    test_loader = torch.utils.data.DataLoader(test,shuffle=False,batch_size = 20)\n",
        "    \n",
        "    return test_loader"
      ],
      "execution_count": null,
      "outputs": []
    },
    {
      "cell_type": "code",
      "metadata": {
        "id": "5ycDhwRHi96E"
      },
      "source": [
        "train_loader,valid_loader=load_train_dataset()"
      ],
      "execution_count": null,
      "outputs": []
    },
    {
      "cell_type": "code",
      "metadata": {
        "id": "olIrwGCNi96H"
      },
      "source": [
        "test_loader = load_test_dataset()\n"
      ],
      "execution_count": null,
      "outputs": []
    },
    {
      "cell_type": "code",
      "metadata": {
        "id": "1DMvAwn7i96K",
        "colab": {
          "base_uri": "https://localhost:8080/",
          "height": 34
        },
        "outputId": "9653f943-f047-4971-b685-c9217af78b87"
      },
      "source": [
        "len(train_loader)"
      ],
      "execution_count": null,
      "outputs": [
        {
          "output_type": "execute_result",
          "data": {
            "text/plain": [
              "2448"
            ]
          },
          "metadata": {
            "tags": []
          },
          "execution_count": 110
        }
      ]
    },
    {
      "cell_type": "markdown",
      "metadata": {
        "id": "bCzxzyrBi96O"
      },
      "source": [
        "# Character Mapping Function "
      ]
    },
    {
      "cell_type": "code",
      "metadata": {
        "id": "TEkv6a5pi96P"
      },
      "source": [
        "def map_labels(label):\n",
        "    charset = {\n",
        "                0:\"Not a Nepali Char\",\n",
        "                1: 'क',\n",
        "                2: 'ख',\n",
        "                3: 'ग',\n",
        "                4: 'घ',\n",
        "                5: 'ङ',\n",
        "                6: 'च',\n",
        "                7: 'छ',\n",
        "                8: 'ज',\n",
        "                9: 'झ',\n",
        "                10: 'ञ',\n",
        "                11: 'ट',\n",
        "                12: 'ठ',\n",
        "                13: 'ड',\n",
        "                14: 'ढ',\n",
        "                15: 'ण',\n",
        "                16: 'त',\n",
        "                17: 'थ',\n",
        "                18: 'द',\n",
        "                19: 'ध',\n",
        "                20: 'न',\n",
        "                21: 'प',\n",
        "                22: 'फ',\n",
        "                23: 'ब',\n",
        "                24: 'भ',\n",
        "                25: 'म',\n",
        "                26: 'य',\n",
        "                27: 'र',\n",
        "                28: 'ल',\n",
        "                29: 'व',\n",
        "                30: 'श',\n",
        "                31: 'ष',\n",
        "                32: 'स',\n",
        "                33: 'ह',\n",
        "                34: 'क्ष,',\n",
        "                35: 'त्र',\n",
        "                36: 'ज्ञ',\n",
        "        \n",
        "    }\n",
        "    for key,value in charset.items():\n",
        "        if label==key:\n",
        "            return value\n",
        "    "
      ],
      "execution_count": null,
      "outputs": []
    },
    {
      "cell_type": "code",
      "metadata": {
        "id": "D2XgqMYKi96S"
      },
      "source": [
        "charset = {\n",
        "                0:\"Not a Nepali Char\",\n",
        "                1: 'क',\n",
        "                2: 'ख',\n",
        "                3: 'ग',\n",
        "                4: 'घ',\n",
        "                5: 'ङ',\n",
        "                6: 'च',\n",
        "                7: 'छ',\n",
        "                8: 'ज',\n",
        "                9: 'झ',\n",
        "                10: 'ञ',\n",
        "                11: 'ट',\n",
        "                12: 'ठ',\n",
        "                13: 'ड',\n",
        "                14: 'ढ',\n",
        "                15: 'ण',\n",
        "                16: 'त',\n",
        "                17: 'थ',\n",
        "                18: 'द',\n",
        "                19: 'ध',\n",
        "                20: 'न',\n",
        "                21: 'प',\n",
        "                22: 'फ',\n",
        "                23: 'ब',\n",
        "                24: 'भ',\n",
        "                25: 'म',\n",
        "                26: 'य',\n",
        "                27: 'र',\n",
        "                28: 'ल',\n",
        "                29: 'व',\n",
        "                30: 'श',\n",
        "                31: 'ष',\n",
        "                32: 'स',\n",
        "                33: 'ह',\n",
        "                34: 'क्ष,',\n",
        "                35: 'त्र',\n",
        "                36: 'ज्ञ',\n",
        "        \n",
        "    }"
      ],
      "execution_count": null,
      "outputs": []
    },
    {
      "cell_type": "markdown",
      "metadata": {
        "id": "kIIsErmii96U"
      },
      "source": [
        "## Visualize the data "
      ]
    },
    {
      "cell_type": "code",
      "metadata": {
        "id": "dAwca1W7i96V"
      },
      "source": [
        "%matplotlib inline\n",
        "def data_visualize_before_pred(loader):\n",
        "    \"\"\"\n",
        "    function that visualizes images before and after training.\n",
        "    \n",
        "    Arguments:  \n",
        "    \n",
        "    loader - data loader for PyTorch (can ne train,test or validation loader)\n",
        "    \"\"\"\n",
        "    dataiter = iter(train_loader)\n",
        "    images, labels = dataiter.next()\n",
        "    images = images.numpy()\n",
        "   \n",
        "    csfont = {'fontname':'Nirmala UI'}\n",
        "    # obtain one batch of training images\n",
        "   \n",
        "\n",
        "    # plot the images in the batch, along with the corresponding labels\n",
        "    fig = plt.figure(figsize=(30, 6))\n",
        "    for ind in range(20):\n",
        "        ax = fig.add_subplot(2, 20/2, ind+1, xticks=[], yticks=[])\n",
        "        images = images.reshape(-1,32,32)\n",
        "        ax.imshow(np.squeeze(images[ind]), cmap='gray')\n",
        "        a = map_labels(labels[ind])\n",
        "        ax.set_title(a,**csfont,fontsize=25)\n",
        "    "
      ],
      "execution_count": null,
      "outputs": []
    },
    {
      "cell_type": "code",
      "metadata": {
        "id": "UCky2syQi96Y",
        "colab": {
          "base_uri": "https://localhost:8080/",
          "height": 1000
        },
        "outputId": "e704bfaf-c99d-4c96-a0c0-35fa9ffdb1a9"
      },
      "source": [
        "data_visualize_before_pred(train_loader)"
      ],
      "execution_count": null,
      "outputs": [
        {
          "output_type": "stream",
          "text": [
            "/usr/local/lib/python3.6/dist-packages/matplotlib/backends/backend_agg.py:214: RuntimeWarning: Glyph 2329 missing from current font.\n",
            "  font.set_text(s, 0.0, flags=flags)\n",
            "/usr/local/lib/python3.6/dist-packages/matplotlib/backends/backend_agg.py:183: RuntimeWarning: Glyph 2329 missing from current font.\n",
            "  font.set_text(s, 0, flags=flags)\n",
            "/usr/local/lib/python3.6/dist-packages/matplotlib/backends/backend_agg.py:214: RuntimeWarning: Glyph 2332 missing from current font.\n",
            "  font.set_text(s, 0.0, flags=flags)\n",
            "/usr/local/lib/python3.6/dist-packages/matplotlib/backends/backend_agg.py:214: RuntimeWarning: Glyph 2381 missing from current font.\n",
            "  font.set_text(s, 0.0, flags=flags)\n",
            "/usr/local/lib/python3.6/dist-packages/matplotlib/backends/backend_agg.py:214: RuntimeWarning: Glyph 2334 missing from current font.\n",
            "  font.set_text(s, 0.0, flags=flags)\n",
            "/usr/local/lib/python3.6/dist-packages/matplotlib/backends/backend_agg.py:183: RuntimeWarning: Glyph 2332 missing from current font.\n",
            "  font.set_text(s, 0, flags=flags)\n",
            "/usr/local/lib/python3.6/dist-packages/matplotlib/backends/backend_agg.py:183: RuntimeWarning: Glyph 2381 missing from current font.\n",
            "  font.set_text(s, 0, flags=flags)\n",
            "/usr/local/lib/python3.6/dist-packages/matplotlib/backends/backend_agg.py:183: RuntimeWarning: Glyph 2334 missing from current font.\n",
            "  font.set_text(s, 0, flags=flags)\n",
            "/usr/local/lib/python3.6/dist-packages/matplotlib/backends/backend_agg.py:214: RuntimeWarning: Glyph 2327 missing from current font.\n",
            "  font.set_text(s, 0.0, flags=flags)\n",
            "/usr/local/lib/python3.6/dist-packages/matplotlib/backends/backend_agg.py:183: RuntimeWarning: Glyph 2327 missing from current font.\n",
            "  font.set_text(s, 0, flags=flags)\n",
            "/usr/local/lib/python3.6/dist-packages/matplotlib/backends/backend_agg.py:214: RuntimeWarning: Glyph 2361 missing from current font.\n",
            "  font.set_text(s, 0.0, flags=flags)\n",
            "/usr/local/lib/python3.6/dist-packages/matplotlib/backends/backend_agg.py:183: RuntimeWarning: Glyph 2361 missing from current font.\n",
            "  font.set_text(s, 0, flags=flags)\n",
            "/usr/local/lib/python3.6/dist-packages/matplotlib/backends/backend_agg.py:214: RuntimeWarning: Glyph 2350 missing from current font.\n",
            "  font.set_text(s, 0.0, flags=flags)\n",
            "/usr/local/lib/python3.6/dist-packages/matplotlib/backends/backend_agg.py:183: RuntimeWarning: Glyph 2350 missing from current font.\n",
            "  font.set_text(s, 0, flags=flags)\n",
            "/usr/local/lib/python3.6/dist-packages/matplotlib/backends/backend_agg.py:214: RuntimeWarning: Glyph 2328 missing from current font.\n",
            "  font.set_text(s, 0.0, flags=flags)\n",
            "/usr/local/lib/python3.6/dist-packages/matplotlib/backends/backend_agg.py:183: RuntimeWarning: Glyph 2328 missing from current font.\n",
            "  font.set_text(s, 0, flags=flags)\n",
            "/usr/local/lib/python3.6/dist-packages/matplotlib/backends/backend_agg.py:214: RuntimeWarning: Glyph 2342 missing from current font.\n",
            "  font.set_text(s, 0.0, flags=flags)\n",
            "/usr/local/lib/python3.6/dist-packages/matplotlib/backends/backend_agg.py:183: RuntimeWarning: Glyph 2342 missing from current font.\n",
            "  font.set_text(s, 0, flags=flags)\n",
            "/usr/local/lib/python3.6/dist-packages/matplotlib/backends/backend_agg.py:214: RuntimeWarning: Glyph 2351 missing from current font.\n",
            "  font.set_text(s, 0.0, flags=flags)\n",
            "/usr/local/lib/python3.6/dist-packages/matplotlib/backends/backend_agg.py:183: RuntimeWarning: Glyph 2351 missing from current font.\n",
            "  font.set_text(s, 0, flags=flags)\n",
            "/usr/local/lib/python3.6/dist-packages/matplotlib/backends/backend_agg.py:214: RuntimeWarning: Glyph 2352 missing from current font.\n",
            "  font.set_text(s, 0.0, flags=flags)\n",
            "/usr/local/lib/python3.6/dist-packages/matplotlib/backends/backend_agg.py:183: RuntimeWarning: Glyph 2352 missing from current font.\n",
            "  font.set_text(s, 0, flags=flags)\n",
            "/usr/local/lib/python3.6/dist-packages/matplotlib/backends/backend_agg.py:214: RuntimeWarning: Glyph 2344 missing from current font.\n",
            "  font.set_text(s, 0.0, flags=flags)\n",
            "/usr/local/lib/python3.6/dist-packages/matplotlib/backends/backend_agg.py:183: RuntimeWarning: Glyph 2344 missing from current font.\n",
            "  font.set_text(s, 0, flags=flags)\n",
            "/usr/local/lib/python3.6/dist-packages/matplotlib/backends/backend_agg.py:214: RuntimeWarning: Glyph 2348 missing from current font.\n",
            "  font.set_text(s, 0.0, flags=flags)\n",
            "/usr/local/lib/python3.6/dist-packages/matplotlib/backends/backend_agg.py:183: RuntimeWarning: Glyph 2348 missing from current font.\n",
            "  font.set_text(s, 0, flags=flags)\n",
            "/usr/local/lib/python3.6/dist-packages/matplotlib/backends/backend_agg.py:214: RuntimeWarning: Glyph 2326 missing from current font.\n",
            "  font.set_text(s, 0.0, flags=flags)\n",
            "/usr/local/lib/python3.6/dist-packages/matplotlib/backends/backend_agg.py:183: RuntimeWarning: Glyph 2326 missing from current font.\n",
            "  font.set_text(s, 0, flags=flags)\n",
            "/usr/local/lib/python3.6/dist-packages/matplotlib/backends/backend_agg.py:214: RuntimeWarning: Glyph 2330 missing from current font.\n",
            "  font.set_text(s, 0.0, flags=flags)\n",
            "/usr/local/lib/python3.6/dist-packages/matplotlib/backends/backend_agg.py:183: RuntimeWarning: Glyph 2330 missing from current font.\n",
            "  font.set_text(s, 0, flags=flags)\n"
          ],
          "name": "stderr"
        },
        {
          "output_type": "display_data",
          "data": {
            "image/png": "[encoded data removed]",
            "text/plain": [
              "<Figure size 2160x432 with 20 Axes>"
            ]
          },
          "metadata": {
            "tags": []
          }
        }
      ]
    },
    {
      "cell_type": "code",
      "metadata": {
        "id": "7LIcwyYvi96a"
      },
      "source": [
        "from torch.nn import Module\n",
        "from torch import nn\n",
        "\n",
        "input_size = 1024\n",
        "hidden_sizes = [256,128,64]\n",
        "output_size = 37\n",
        "model = nn.Sequential(nn.Linear(input_size,hidden_sizes[0]),\n",
        "                      nn.ReLU(),\n",
        "                      nn.Linear(hidden_sizes[0], hidden_sizes[1]),\n",
        "                      nn.ReLU(),\n",
        "                      nn.Linear(hidden_sizes[1],hidden_sizes[2]),\n",
        "                      nn.ReLU(),\n",
        "                      nn.Linear(hidden_sizes[2], output_size),\n",
        "                      nn.LogSoftmax(dim =1)\n",
        "                     )"
      ],
      "execution_count": null,
      "outputs": []
    },
    {
      "cell_type": "code",
      "metadata": {
        "id": "YOc195ebi96e",
        "colab": {
          "base_uri": "https://localhost:8080/",
          "height": 185
        },
        "outputId": "484f2e59-543b-44c1-b971-54752735c0f1"
      },
      "source": [
        "print(model)"
      ],
      "execution_count": null,
      "outputs": [
        {
          "output_type": "stream",
          "text": [
            "Sequential(\n",
            "  (0): Linear(in_features=1024, out_features=256, bias=True)\n",
            "  (1): ReLU()\n",
            "  (2): Linear(in_features=256, out_features=128, bias=True)\n",
            "  (3): ReLU()\n",
            "  (4): Linear(in_features=128, out_features=64, bias=True)\n",
            "  (5): ReLU()\n",
            "  (6): Linear(in_features=64, out_features=37, bias=True)\n",
            "  (7): LogSoftmax()\n",
            ")\n"
          ],
          "name": "stdout"
        }
      ]
    },
    {
      "cell_type": "code",
      "metadata": {
        "id": "lq6ka79hi96h",
        "colab": {
          "base_uri": "https://localhost:8080/",
          "height": 185
        },
        "outputId": "764c805a-5207-490a-bead-e5f0ce747879"
      },
      "source": [
        "criterion = nn.NLLLoss()\n",
        "images, labels = next(iter(test_loader))\n",
        "images = images.view(images.shape[0],-1)\n",
        "logps = model(images)\n",
        "loss = criterion(logps,labels)\n",
        "\n",
        "print('Before forward pass: \\n', model[0].weight.grad)\n",
        "\n",
        "loss.backward()\n",
        "\n",
        "print('After backward pass: \\n', model[0].weight.grad)"
      ],
      "execution_count": null,
      "outputs": [
        {
          "output_type": "stream",
          "text": [
            "Before forward pass: \n",
            " None\n",
            "After backward pass: \n",
            " tensor([[0., 0., 0.,  ..., 0., 0., 0.],\n",
            "        [0., 0., 0.,  ..., 0., 0., 0.],\n",
            "        [0., 0., 0.,  ..., 0., 0., 0.],\n",
            "        ...,\n",
            "        [0., 0., 0.,  ..., 0., 0., 0.],\n",
            "        [0., 0., 0.,  ..., 0., 0., 0.],\n",
            "        [0., 0., 0.,  ..., 0., 0., 0.]])\n"
          ],
          "name": "stdout"
        }
      ]
    },
    {
      "cell_type": "code",
      "metadata": {
        "id": "VGiWy_8Vi96l"
      },
      "source": [
        "from torch import optim "
      ],
      "execution_count": null,
      "outputs": []
    },
    {
      "cell_type": "code",
      "metadata": {
        "id": "Ie2Gw9WRi96o",
        "colab": {
          "base_uri": "https://localhost:8080/",
          "height": 286
        },
        "outputId": "bee4b740-bbad-4fc5-aad2-8606920299f3"
      },
      "source": [
        "optimizer = optim.SGD(model.parameters(), lr = 0.01, momentum = 0.9)\n",
        "\n",
        "print('Initial Weights - ', model[0].weight)\n",
        "\n",
        "images, labels = next(iter(train_loader))\n",
        "\n",
        "images = images.view(images.shape[0],-1)\n",
        "\n",
        "optimizer.zero_grad()\n",
        "\n",
        "output = model(images)\n",
        "\n",
        "loss = criterion(output,labels)\n",
        "\n",
        "loss.backward()\n",
        "\n",
        "print('Gradient - ', model[0].weight.grad)\n",
        "\n"
      ],
      "execution_count": null,
      "outputs": [
        {
          "output_type": "stream",
          "text": [
            "Initial Weights -  Parameter containing:\n",
            "tensor([[ 0.0201,  0.0155,  0.0157,  ..., -0.0127,  0.0130,  0.0111],\n",
            "        [-0.0098, -0.0133,  0.0179,  ...,  0.0110,  0.0061,  0.0027],\n",
            "        [ 0.0195,  0.0267,  0.0110,  ..., -0.0279,  0.0244, -0.0139],\n",
            "        ...,\n",
            "        [-0.0013, -0.0261, -0.0047,  ...,  0.0120, -0.0081,  0.0112],\n",
            "        [-0.0244,  0.0260, -0.0085,  ...,  0.0223, -0.0306, -0.0229],\n",
            "        [-0.0310,  0.0287,  0.0172,  ..., -0.0233, -0.0233, -0.0033]],\n",
            "       requires_grad=True)\n",
            "Gradient -  tensor([[0., 0., 0.,  ..., 0., 0., 0.],\n",
            "        [0., 0., 0.,  ..., 0., 0., 0.],\n",
            "        [0., 0., 0.,  ..., 0., 0., 0.],\n",
            "        ...,\n",
            "        [0., 0., 0.,  ..., 0., 0., 0.],\n",
            "        [0., 0., 0.,  ..., 0., 0., 0.],\n",
            "        [0., 0., 0.,  ..., 0., 0., 0.]])\n"
          ],
          "name": "stdout"
        }
      ]
    },
    {
      "cell_type": "code",
      "metadata": {
        "id": "084mioyai96r",
        "colab": {
          "base_uri": "https://localhost:8080/",
          "height": 168
        },
        "outputId": "6df5a9b0-96c0-432c-edcb-5263d2de3970"
      },
      "source": [
        "optimizer.step()\n",
        "print('Updated weights - ', model[0].weight)"
      ],
      "execution_count": null,
      "outputs": [
        {
          "output_type": "stream",
          "text": [
            "Updated weights -  Parameter containing:\n",
            "tensor([[ 0.0201,  0.0155,  0.0157,  ..., -0.0127,  0.0130,  0.0111],\n",
            "        [-0.0098, -0.0133,  0.0179,  ...,  0.0110,  0.0061,  0.0027],\n",
            "        [ 0.0195,  0.0267,  0.0110,  ..., -0.0279,  0.0244, -0.0139],\n",
            "        ...,\n",
            "        [-0.0013, -0.0261, -0.0047,  ...,  0.0120, -0.0081,  0.0112],\n",
            "        [-0.0244,  0.0260, -0.0085,  ...,  0.0223, -0.0306, -0.0229],\n",
            "        [-0.0310,  0.0287,  0.0172,  ..., -0.0233, -0.0233, -0.0033]],\n",
            "       requires_grad=True)\n"
          ],
          "name": "stdout"
        }
      ]
    },
    {
      "cell_type": "markdown",
      "metadata": {
        "id": "Ocqwl_ALi96t"
      },
      "source": [
        "## Core Training on NN"
      ]
    },
    {
      "cell_type": "code",
      "metadata": {
        "id": "9NnGfp8ci96u",
        "colab": {
          "base_uri": "https://localhost:8080/",
          "height": 1000
        },
        "outputId": "c772ee80-3abe-4f47-944c-3e024a2e31e7"
      },
      "source": [
        "optimizer = optim.SGD(model.parameters(), lr = 0.01, momentum = 0.5)\n",
        "time0 = time()\n",
        "epochs = 50\n",
        "for e in range(epochs):\n",
        "    running_loss = 0 \n",
        "    for images, labels in train_loader:\n",
        "        images = images.view(images.shape[0],-1)\n",
        "        optimizer.zero_grad()\n",
        "        output = model(images)\n",
        "        loss = criterion(output,labels)\n",
        "        loss.backward()\n",
        "        optimizer.step()\n",
        "        running_loss += loss.item()\n",
        "    else:\n",
        "        print(\"Epoch {} - Training Loss: {}\".format(e,running_loss/len(train_loader)))\n",
        "\n",
        "    for images, labels in valid_loader:\n",
        "        images = images.view(images.shape[0],-1)\n",
        "        optimizer.zero_grad()\n",
        "        output = model(images)\n",
        "        loss = criterion(output,labels)\n",
        "        loss.backward()\n",
        "        optimizer.step()\n",
        "        running_loss += loss.item()\n",
        "    else:\n",
        "        print(\"Epoch {} - Validation Loss: {}\".format(e,running_loss/len(valid_loader)))\n",
        "        print('------------------------------------------------------------------------')\n",
        "print(\"\\n Training time (in Minutes) =\", (time() - time0)/60)\n",
        "        "
      ],
      "execution_count": null,
      "outputs": [
        {
          "output_type": "stream",
          "text": [
            "Epoch 0 - Training Loss: 1.3649120307192693\n",
            "Epoch 0 - Validation Loss: 6.503341125750464\n",
            "Epoch 1 - Training Loss: 0.7781008141894453\n",
            "Epoch 1 - Validation Loss: 3.745753369227149\n",
            "Epoch 2 - Training Loss: 0.516409766151162\n",
            "Epoch 2 - Validation Loss: 2.5163518946520447\n",
            "Epoch 3 - Training Loss: 0.3805141282736573\n",
            "Epoch 3 - Validation Loss: 1.862429953545478\n",
            "Epoch 4 - Training Loss: 0.2937263302072073\n",
            "Epoch 4 - Validation Loss: 1.4417992912832454\n",
            "Epoch 5 - Training Loss: 0.2319921864717103\n",
            "Epoch 5 - Validation Loss: 1.1411531024180304\n",
            "Epoch 6 - Training Loss: 0.18484149649556653\n",
            "Epoch 6 - Validation Loss: 0.9127357007762161\n",
            "Epoch 7 - Training Loss: 0.14712423457249732\n",
            "Epoch 7 - Validation Loss: 0.7297303612919196\n",
            "Epoch 8 - Training Loss: 0.11810562344775094\n",
            "Epoch 8 - Validation Loss: 0.5878785803919396\n",
            "Epoch 9 - Training Loss: 0.09331548605923612\n",
            "Epoch 9 - Validation Loss: 0.46471955402228476\n",
            "Epoch 10 - Training Loss: 0.07897066749658324\n",
            "Epoch 10 - Validation Loss: 0.39815421876342727\n",
            "Epoch 11 - Training Loss: 0.06488481464095183\n",
            "Epoch 11 - Validation Loss: 0.32592741139096154\n",
            "Epoch 12 - Training Loss: 0.06357166825892266\n",
            "Epoch 12 - Validation Loss: 0.3177864511434641\n",
            "Epoch 13 - Training Loss: 0.05513631511651814\n",
            "Epoch 13 - Validation Loss: 0.2800754459016615\n",
            "Epoch 14 - Training Loss: 0.0477793254525738\n",
            "Epoch 14 - Validation Loss: 0.24339766662933174\n",
            "Epoch 15 - Training Loss: 0.044093464262911525\n",
            "Epoch 15 - Validation Loss: 0.23206993527317393\n",
            "Epoch 16 - Training Loss: 0.036128828853750246\n",
            "Epoch 16 - Validation Loss: 0.1826821001723979\n",
            "Epoch 17 - Training Loss: 0.03700767984939518\n",
            "Epoch 17 - Validation Loss: 0.18110506964016987\n",
            "Epoch 18 - Training Loss: 0.034552059849147554\n",
            "Epoch 18 - Validation Loss: 0.17080442524587067\n",
            "Epoch 19 - Training Loss: 0.03523994918117635\n",
            "Epoch 19 - Validation Loss: 0.17791562563031987\n",
            "Epoch 20 - Training Loss: 0.028378357832925565\n",
            "Epoch 20 - Validation Loss: 0.143933284035928\n",
            "Epoch 21 - Training Loss: 0.03114323119767086\n",
            "Epoch 21 - Validation Loss: 0.14887693480639225\n",
            "Epoch 22 - Training Loss: 0.02521199780272698\n",
            "Epoch 22 - Validation Loss: 0.12141917637884593\n",
            "Epoch 23 - Training Loss: 0.01808824463841918\n",
            "Epoch 23 - Validation Loss: 0.09176687625191793\n",
            "Epoch 24 - Training Loss: 0.01681312986473601\n",
            "Epoch 24 - Validation Loss: 0.08931827769663563\n",
            "Epoch 25 - Training Loss: 0.017325817911987885\n",
            "Epoch 25 - Validation Loss: 0.08716743922472607\n",
            "Epoch 26 - Training Loss: 0.016268894342524834\n",
            "Epoch 26 - Validation Loss: 0.080368620012344\n",
            "Epoch 27 - Training Loss: 0.008289255131601538\n",
            "Epoch 27 - Validation Loss: 0.04097427426686741\n",
            "Epoch 28 - Training Loss: 0.0063775918757537405\n",
            "Epoch 28 - Validation Loss: 0.02941006291831771\n",
            "Epoch 29 - Training Loss: 0.0030490367522087096\n",
            "Epoch 29 - Validation Loss: 0.014215908509823892\n",
            "Epoch 30 - Training Loss: 0.001185478279127989\n",
            "Epoch 30 - Validation Loss: 0.005653844085745154\n",
            "Epoch 31 - Training Loss: 0.0006603857872157843\n",
            "Epoch 31 - Validation Loss: 0.0032969564362927725\n",
            "Epoch 32 - Training Loss: 0.0005287185067578727\n",
            "Epoch 32 - Validation Loss: 0.0026693980604981125\n",
            "Epoch 33 - Training Loss: 0.0004645002457468824\n",
            "Epoch 33 - Validation Loss: 0.0023509708867725902\n",
            "Epoch 34 - Training Loss: 0.0004197574017320622\n",
            "Epoch 34 - Validation Loss: 0.0021277087869779033\n",
            "Epoch 35 - Training Loss: 0.0003857156240765156\n",
            "Epoch 35 - Validation Loss: 0.0019561392325561835\n",
            "Epoch 36 - Training Loss: 0.0003582377300327639\n",
            "Epoch 36 - Validation Loss: 0.0018173925178291545\n",
            "Epoch 37 - Training Loss: 0.0003353831181886701\n",
            "Epoch 37 - Validation Loss: 0.0017019193646731206\n",
            "Epoch 38 - Training Loss: 0.00031602650980593977\n",
            "Epoch 38 - Validation Loss: 0.0016040668382766472\n",
            "Epoch 39 - Training Loss: 0.0002992202551824614\n",
            "Epoch 39 - Validation Loss: 0.00151892316116352\n",
            "Epoch 40 - Training Loss: 0.00028444489814357065\n",
            "Epoch 40 - Validation Loss: 0.0014439946823701104\n",
            "Epoch 41 - Training Loss: 0.00027135609792030006\n",
            "Epoch 41 - Validation Loss: 0.0013776732594442973\n",
            "Epoch 42 - Training Loss: 0.00025960078855077114\n",
            "Epoch 42 - Validation Loss: 0.0013179232711905125\n",
            "Epoch 43 - Training Loss: 0.0002490051285881369\n",
            "Epoch 43 - Validation Loss: 0.0012640050136053522\n",
            "Epoch 44 - Training Loss: 0.00023934580288670457\n",
            "Epoch 44 - Validation Loss: 0.001215060224644295\n",
            "Epoch 45 - Training Loss: 0.00023047538437947248\n",
            "Epoch 45 - Validation Loss: 0.0011700200554608962\n",
            "Epoch 46 - Training Loss: 0.0002223458758789525\n",
            "Epoch 46 - Validation Loss: 0.0011289020902589947\n",
            "Epoch 47 - Training Loss: 0.00021485814063396748\n",
            "Epoch 47 - Validation Loss: 0.0010908943510812895\n",
            "Epoch 48 - Training Loss: 0.0002079178113492816\n",
            "Epoch 48 - Validation Loss: 0.0010557018598452103\n",
            "Epoch 49 - Training Loss: 0.0002014764428340004\n",
            "Epoch 49 - Validation Loss: 0.0010229540657501167\n",
            "\n",
            " Training time (in Minutes) = 5.9792999903361\n"
          ],
          "name": "stdout"
        }
      ]
    },
    {
      "cell_type": "code",
      "metadata": {
        "id": "TWI3vQK_i96x"
      },
      "source": [
        ""
      ],
      "execution_count": null,
      "outputs": []
    },
    {
      "cell_type": "code",
      "metadata": {
        "id": "FycOyUaKi96z"
      },
      "source": [
        "def view_classify(img,ps):\n",
        "    ps = ps.data.numpy().squeeze()\n",
        "    \n",
        "    fig, (ax1,ax2) = plt.subplots(figsize=(10,19), ncols = 2)\n",
        "    ax1.imshow(img.view(1,1,32,32).numpy().squeeze())\n",
        "    ax1.axis('off')\n",
        "    ax2.barh(np.arange(0,37),ps)\n",
        "    ax2.set_aspect(0.1)\n",
        "    ax2.set_yticks(np.arange(0,37))\n",
        "    ax2.set_yticklabels(charset.values(),**csfont,fontsize=20)\n",
        "    ax2.set_title(\"Class Probability\")\n",
        "    ax2.set_xlim(0,1.1)\n",
        "    plt.tight_layout()\n"
      ],
      "execution_count": null,
      "outputs": []
    },
    {
      "cell_type": "code",
      "metadata": {
        "id": "1F0lhw2ai964",
        "colab": {
          "base_uri": "https://localhost:8080/",
          "height": 1000
        },
        "outputId": "90bf74d1-77e2-4e71-9861-c9955bc3a1d3"
      },
      "source": [
        "images,labels = next(iter(test_loader))\n",
        "img = images[19].view(1,1024)\n",
        "\n",
        "with torch.no_grad():\n",
        "    logps = model(img)\n",
        "\n",
        "ps = torch.exp(logps)\n",
        "probab = list(ps.numpy()[0])\n",
        "print(\"The actual Character is\", map_labels(labels[19]))\n",
        "print(\"Predicted Character =\", map_labels(probab.index(max(probab))))\n",
        "print(\"The probability of predicted Character is\", max(probab))\n",
        "\n",
        "view_classify(img.view(1,32,32),ps)"
      ],
      "execution_count": null,
      "outputs": [
        {
          "output_type": "stream",
          "text": [
            "The actual Character is प\n",
            "Predicted Digit = प\n",
            "The probability of predicted Character is 0.9999981\n"
          ],
          "name": "stdout"
        },
        {
          "output_type": "stream",
          "text": [
            "/usr/local/lib/python3.6/dist-packages/matplotlib/backends/backend_agg.py:214: RuntimeWarning: Glyph 2325 missing from current font.\n",
            "  font.set_text(s, 0.0, flags=flags)\n",
            "/usr/local/lib/python3.6/dist-packages/matplotlib/backends/backend_agg.py:214: RuntimeWarning: Glyph 2326 missing from current font.\n",
            "  font.set_text(s, 0.0, flags=flags)\n",
            "/usr/local/lib/python3.6/dist-packages/matplotlib/backends/backend_agg.py:214: RuntimeWarning: Glyph 2327 missing from current font.\n",
            "  font.set_text(s, 0.0, flags=flags)\n",
            "/usr/local/lib/python3.6/dist-packages/matplotlib/backends/backend_agg.py:214: RuntimeWarning: Glyph 2328 missing from current font.\n",
            "  font.set_text(s, 0.0, flags=flags)\n",
            "/usr/local/lib/python3.6/dist-packages/matplotlib/backends/backend_agg.py:214: RuntimeWarning: Glyph 2329 missing from current font.\n",
            "  font.set_text(s, 0.0, flags=flags)\n",
            "/usr/local/lib/python3.6/dist-packages/matplotlib/backends/backend_agg.py:214: RuntimeWarning: Glyph 2330 missing from current font.\n",
            "  font.set_text(s, 0.0, flags=flags)\n",
            "/usr/local/lib/python3.6/dist-packages/matplotlib/backends/backend_agg.py:214: RuntimeWarning: Glyph 2331 missing from current font.\n",
            "  font.set_text(s, 0.0, flags=flags)\n",
            "/usr/local/lib/python3.6/dist-packages/matplotlib/backends/backend_agg.py:214: RuntimeWarning: Glyph 2332 missing from current font.\n",
            "  font.set_text(s, 0.0, flags=flags)\n",
            "/usr/local/lib/python3.6/dist-packages/matplotlib/backends/backend_agg.py:214: RuntimeWarning: Glyph 2333 missing from current font.\n",
            "  font.set_text(s, 0.0, flags=flags)\n",
            "/usr/local/lib/python3.6/dist-packages/matplotlib/backends/backend_agg.py:214: RuntimeWarning: Glyph 2334 missing from current font.\n",
            "  font.set_text(s, 0.0, flags=flags)\n",
            "/usr/local/lib/python3.6/dist-packages/matplotlib/backends/backend_agg.py:214: RuntimeWarning: Glyph 2335 missing from current font.\n",
            "  font.set_text(s, 0.0, flags=flags)\n",
            "/usr/local/lib/python3.6/dist-packages/matplotlib/backends/backend_agg.py:214: RuntimeWarning: Glyph 2336 missing from current font.\n",
            "  font.set_text(s, 0.0, flags=flags)\n",
            "/usr/local/lib/python3.6/dist-packages/matplotlib/backends/backend_agg.py:214: RuntimeWarning: Glyph 2337 missing from current font.\n",
            "  font.set_text(s, 0.0, flags=flags)\n",
            "/usr/local/lib/python3.6/dist-packages/matplotlib/backends/backend_agg.py:214: RuntimeWarning: Glyph 2338 missing from current font.\n",
            "  font.set_text(s, 0.0, flags=flags)\n",
            "/usr/local/lib/python3.6/dist-packages/matplotlib/backends/backend_agg.py:214: RuntimeWarning: Glyph 2339 missing from current font.\n",
            "  font.set_text(s, 0.0, flags=flags)\n",
            "/usr/local/lib/python3.6/dist-packages/matplotlib/backends/backend_agg.py:214: RuntimeWarning: Glyph 2340 missing from current font.\n",
            "  font.set_text(s, 0.0, flags=flags)\n",
            "/usr/local/lib/python3.6/dist-packages/matplotlib/backends/backend_agg.py:214: RuntimeWarning: Glyph 2341 missing from current font.\n",
            "  font.set_text(s, 0.0, flags=flags)\n",
            "/usr/local/lib/python3.6/dist-packages/matplotlib/backends/backend_agg.py:214: RuntimeWarning: Glyph 2342 missing from current font.\n",
            "  font.set_text(s, 0.0, flags=flags)\n",
            "/usr/local/lib/python3.6/dist-packages/matplotlib/backends/backend_agg.py:214: RuntimeWarning: Glyph 2343 missing from current font.\n",
            "  font.set_text(s, 0.0, flags=flags)\n",
            "/usr/local/lib/python3.6/dist-packages/matplotlib/backends/backend_agg.py:214: RuntimeWarning: Glyph 2344 missing from current font.\n",
            "  font.set_text(s, 0.0, flags=flags)\n",
            "/usr/local/lib/python3.6/dist-packages/matplotlib/backends/backend_agg.py:214: RuntimeWarning: Glyph 2346 missing from current font.\n",
            "  font.set_text(s, 0.0, flags=flags)\n",
            "/usr/local/lib/python3.6/dist-packages/matplotlib/backends/backend_agg.py:214: RuntimeWarning: Glyph 2347 missing from current font.\n",
            "  font.set_text(s, 0.0, flags=flags)\n",
            "/usr/local/lib/python3.6/dist-packages/matplotlib/backends/backend_agg.py:214: RuntimeWarning: Glyph 2348 missing from current font.\n",
            "  font.set_text(s, 0.0, flags=flags)\n",
            "/usr/local/lib/python3.6/dist-packages/matplotlib/backends/backend_agg.py:214: RuntimeWarning: Glyph 2349 missing from current font.\n",
            "  font.set_text(s, 0.0, flags=flags)\n",
            "/usr/local/lib/python3.6/dist-packages/matplotlib/backends/backend_agg.py:214: RuntimeWarning: Glyph 2350 missing from current font.\n",
            "  font.set_text(s, 0.0, flags=flags)\n",
            "/usr/local/lib/python3.6/dist-packages/matplotlib/backends/backend_agg.py:214: RuntimeWarning: Glyph 2351 missing from current font.\n",
            "  font.set_text(s, 0.0, flags=flags)\n",
            "/usr/local/lib/python3.6/dist-packages/matplotlib/backends/backend_agg.py:214: RuntimeWarning: Glyph 2352 missing from current font.\n",
            "  font.set_text(s, 0.0, flags=flags)\n",
            "/usr/local/lib/python3.6/dist-packages/matplotlib/backends/backend_agg.py:214: RuntimeWarning: Glyph 2354 missing from current font.\n",
            "  font.set_text(s, 0.0, flags=flags)\n",
            "/usr/local/lib/python3.6/dist-packages/matplotlib/backends/backend_agg.py:214: RuntimeWarning: Glyph 2357 missing from current font.\n",
            "  font.set_text(s, 0.0, flags=flags)\n",
            "/usr/local/lib/python3.6/dist-packages/matplotlib/backends/backend_agg.py:214: RuntimeWarning: Glyph 2358 missing from current font.\n",
            "  font.set_text(s, 0.0, flags=flags)\n",
            "/usr/local/lib/python3.6/dist-packages/matplotlib/backends/backend_agg.py:214: RuntimeWarning: Glyph 2359 missing from current font.\n",
            "  font.set_text(s, 0.0, flags=flags)\n",
            "/usr/local/lib/python3.6/dist-packages/matplotlib/backends/backend_agg.py:214: RuntimeWarning: Glyph 2360 missing from current font.\n",
            "  font.set_text(s, 0.0, flags=flags)\n",
            "/usr/local/lib/python3.6/dist-packages/matplotlib/backends/backend_agg.py:214: RuntimeWarning: Glyph 2361 missing from current font.\n",
            "  font.set_text(s, 0.0, flags=flags)\n",
            "/usr/local/lib/python3.6/dist-packages/matplotlib/backends/backend_agg.py:214: RuntimeWarning: Glyph 2381 missing from current font.\n",
            "  font.set_text(s, 0.0, flags=flags)\n",
            "/usr/local/lib/python3.6/dist-packages/matplotlib/backends/backend_agg.py:183: RuntimeWarning: Glyph 2325 missing from current font.\n",
            "  font.set_text(s, 0, flags=flags)\n",
            "/usr/local/lib/python3.6/dist-packages/matplotlib/backends/backend_agg.py:183: RuntimeWarning: Glyph 2326 missing from current font.\n",
            "  font.set_text(s, 0, flags=flags)\n",
            "/usr/local/lib/python3.6/dist-packages/matplotlib/backends/backend_agg.py:183: RuntimeWarning: Glyph 2327 missing from current font.\n",
            "  font.set_text(s, 0, flags=flags)\n",
            "/usr/local/lib/python3.6/dist-packages/matplotlib/backends/backend_agg.py:183: RuntimeWarning: Glyph 2328 missing from current font.\n",
            "  font.set_text(s, 0, flags=flags)\n",
            "/usr/local/lib/python3.6/dist-packages/matplotlib/backends/backend_agg.py:183: RuntimeWarning: Glyph 2329 missing from current font.\n",
            "  font.set_text(s, 0, flags=flags)\n",
            "/usr/local/lib/python3.6/dist-packages/matplotlib/backends/backend_agg.py:183: RuntimeWarning: Glyph 2330 missing from current font.\n",
            "  font.set_text(s, 0, flags=flags)\n",
            "/usr/local/lib/python3.6/dist-packages/matplotlib/backends/backend_agg.py:183: RuntimeWarning: Glyph 2331 missing from current font.\n",
            "  font.set_text(s, 0, flags=flags)\n",
            "/usr/local/lib/python3.6/dist-packages/matplotlib/backends/backend_agg.py:183: RuntimeWarning: Glyph 2332 missing from current font.\n",
            "  font.set_text(s, 0, flags=flags)\n",
            "/usr/local/lib/python3.6/dist-packages/matplotlib/backends/backend_agg.py:183: RuntimeWarning: Glyph 2333 missing from current font.\n",
            "  font.set_text(s, 0, flags=flags)\n",
            "/usr/local/lib/python3.6/dist-packages/matplotlib/backends/backend_agg.py:183: RuntimeWarning: Glyph 2334 missing from current font.\n",
            "  font.set_text(s, 0, flags=flags)\n",
            "/usr/local/lib/python3.6/dist-packages/matplotlib/backends/backend_agg.py:183: RuntimeWarning: Glyph 2335 missing from current font.\n",
            "  font.set_text(s, 0, flags=flags)\n",
            "/usr/local/lib/python3.6/dist-packages/matplotlib/backends/backend_agg.py:183: RuntimeWarning: Glyph 2336 missing from current font.\n",
            "  font.set_text(s, 0, flags=flags)\n",
            "/usr/local/lib/python3.6/dist-packages/matplotlib/backends/backend_agg.py:183: RuntimeWarning: Glyph 2337 missing from current font.\n",
            "  font.set_text(s, 0, flags=flags)\n",
            "/usr/local/lib/python3.6/dist-packages/matplotlib/backends/backend_agg.py:183: RuntimeWarning: Glyph 2338 missing from current font.\n",
            "  font.set_text(s, 0, flags=flags)\n",
            "/usr/local/lib/python3.6/dist-packages/matplotlib/backends/backend_agg.py:183: RuntimeWarning: Glyph 2339 missing from current font.\n",
            "  font.set_text(s, 0, flags=flags)\n",
            "/usr/local/lib/python3.6/dist-packages/matplotlib/backends/backend_agg.py:183: RuntimeWarning: Glyph 2340 missing from current font.\n",
            "  font.set_text(s, 0, flags=flags)\n",
            "/usr/local/lib/python3.6/dist-packages/matplotlib/backends/backend_agg.py:183: RuntimeWarning: Glyph 2341 missing from current font.\n",
            "  font.set_text(s, 0, flags=flags)\n",
            "/usr/local/lib/python3.6/dist-packages/matplotlib/backends/backend_agg.py:183: RuntimeWarning: Glyph 2342 missing from current font.\n",
            "  font.set_text(s, 0, flags=flags)\n",
            "/usr/local/lib/python3.6/dist-packages/matplotlib/backends/backend_agg.py:183: RuntimeWarning: Glyph 2343 missing from current font.\n",
            "  font.set_text(s, 0, flags=flags)\n",
            "/usr/local/lib/python3.6/dist-packages/matplotlib/backends/backend_agg.py:183: RuntimeWarning: Glyph 2344 missing from current font.\n",
            "  font.set_text(s, 0, flags=flags)\n",
            "/usr/local/lib/python3.6/dist-packages/matplotlib/backends/backend_agg.py:183: RuntimeWarning: Glyph 2346 missing from current font.\n",
            "  font.set_text(s, 0, flags=flags)\n",
            "/usr/local/lib/python3.6/dist-packages/matplotlib/backends/backend_agg.py:183: RuntimeWarning: Glyph 2347 missing from current font.\n",
            "  font.set_text(s, 0, flags=flags)\n",
            "/usr/local/lib/python3.6/dist-packages/matplotlib/backends/backend_agg.py:183: RuntimeWarning: Glyph 2348 missing from current font.\n",
            "  font.set_text(s, 0, flags=flags)\n",
            "/usr/local/lib/python3.6/dist-packages/matplotlib/backends/backend_agg.py:183: RuntimeWarning: Glyph 2349 missing from current font.\n",
            "  font.set_text(s, 0, flags=flags)\n",
            "/usr/local/lib/python3.6/dist-packages/matplotlib/backends/backend_agg.py:183: RuntimeWarning: Glyph 2350 missing from current font.\n",
            "  font.set_text(s, 0, flags=flags)\n",
            "/usr/local/lib/python3.6/dist-packages/matplotlib/backends/backend_agg.py:183: RuntimeWarning: Glyph 2351 missing from current font.\n",
            "  font.set_text(s, 0, flags=flags)\n",
            "/usr/local/lib/python3.6/dist-packages/matplotlib/backends/backend_agg.py:183: RuntimeWarning: Glyph 2352 missing from current font.\n",
            "  font.set_text(s, 0, flags=flags)\n",
            "/usr/local/lib/python3.6/dist-packages/matplotlib/backends/backend_agg.py:183: RuntimeWarning: Glyph 2354 missing from current font.\n",
            "  font.set_text(s, 0, flags=flags)\n",
            "/usr/local/lib/python3.6/dist-packages/matplotlib/backends/backend_agg.py:183: RuntimeWarning: Glyph 2357 missing from current font.\n",
            "  font.set_text(s, 0, flags=flags)\n",
            "/usr/local/lib/python3.6/dist-packages/matplotlib/backends/backend_agg.py:183: RuntimeWarning: Glyph 2358 missing from current font.\n",
            "  font.set_text(s, 0, flags=flags)\n",
            "/usr/local/lib/python3.6/dist-packages/matplotlib/backends/backend_agg.py:183: RuntimeWarning: Glyph 2359 missing from current font.\n",
            "  font.set_text(s, 0, flags=flags)\n",
            "/usr/local/lib/python3.6/dist-packages/matplotlib/backends/backend_agg.py:183: RuntimeWarning: Glyph 2360 missing from current font.\n",
            "  font.set_text(s, 0, flags=flags)\n",
            "/usr/local/lib/python3.6/dist-packages/matplotlib/backends/backend_agg.py:183: RuntimeWarning: Glyph 2361 missing from current font.\n",
            "  font.set_text(s, 0, flags=flags)\n",
            "/usr/local/lib/python3.6/dist-packages/matplotlib/backends/backend_agg.py:183: RuntimeWarning: Glyph 2381 missing from current font.\n",
            "  font.set_text(s, 0, flags=flags)\n"
          ],
          "name": "stderr"
        },
        {
          "output_type": "display_data",
          "data": {
            "image/png": "[encoded data removed]",
            "text/plain": [
              "<Figure size 720x1368 with 2 Axes>"
            ]
          },
          "metadata": {
            "tags": [],
            "needs_background": "light"
          }
        }
      ]
    },
    {
      "cell_type": "markdown",
      "metadata": {
        "id": "Wqw1Wbxvi966"
      },
      "source": [
        "### Model Evaluation "
      ]
    },
    {
      "cell_type": "code",
      "metadata": {
        "id": "SPolUNl5i966"
      },
      "source": [
        "def evaluate(data_loader):\n",
        "  correct_count, all_count = 0, 0\n",
        "  for images, labels in data_loader:\n",
        "    for i in range(len(labels)):\n",
        "      img = images[i].view(1,1024)\n",
        "      with torch.no_grad():\n",
        "        logps = model(img)\n",
        "            \n",
        "      ps = torch.exp(logps)\n",
        "      probab = list(ps.numpy()[0])\n",
        "      pred_label = probab.index(max(probab))\n",
        "      true_label = labels.numpy()[i]\n",
        "      if(true_label == pred_label):\n",
        "        correct_count += 1\n",
        "      all_count += 1\n",
        "  print(\"Number of Images tested =\", all_count)\n",
        "  print(\"Model accuracy = \", correct_count/all_count*100)"
      ],
      "execution_count": null,
      "outputs": []
    },
    {
      "cell_type": "code",
      "metadata": {
        "id": "eDywDwpUnvlh",
        "colab": {
          "base_uri": "https://localhost:8080/",
          "height": 67
        },
        "outputId": "c14d5dc2-1722-4d9f-86ac-f9f59603648d"
      },
      "source": [
        "print(\"The results on train set:\")\n",
        "evaluate(train_loader)"
      ],
      "execution_count": null,
      "outputs": [
        {
          "output_type": "stream",
          "text": [
            "The results on train set:\n",
            "Number of Images tested = 48960\n",
            "Model accuracy =  100.0\n"
          ],
          "name": "stdout"
        }
      ]
    },
    {
      "cell_type": "code",
      "metadata": {
        "id": "i1T4JWbQi969",
        "colab": {
          "base_uri": "https://localhost:8080/",
          "height": 67
        },
        "outputId": "0b96616c-d545-464f-c81e-7e618a32d48c"
      },
      "source": [
        "print(\"The results on validation set:\")\n",
        "evaluate(valid_loader)"
      ],
      "execution_count": null,
      "outputs": [
        {
          "output_type": "stream",
          "text": [
            "The results on validation set:\n",
            "Number of Images tested = 12240\n",
            "Model accuracy =  100.0\n"
          ],
          "name": "stdout"
        }
      ]
    },
    {
      "cell_type": "code",
      "metadata": {
        "id": "dA_fKzdqnGp2",
        "colab": {
          "base_uri": "https://localhost:8080/",
          "height": 67
        },
        "outputId": "383b3d57-db96-40f9-9344-21ab36894e14"
      },
      "source": [
        "print(\"The accuracy on test set:\")\n",
        "evaluate(test_loader)"
      ],
      "execution_count": null,
      "outputs": [
        {
          "output_type": "stream",
          "text": [
            "The accuracy on test set:\n",
            "Number of Images tested = 20001\n",
            "Model accuracy =  100.0\n"
          ],
          "name": "stdout"
        }
      ]
    },
    {
      "cell_type": "code",
      "metadata": {
        "id": "wPKT__7foMDh"
      },
      "source": [
        "torch.save(model.state_dict(), '/content/drive/My Drive/Models/MLP/modelMLPe50lr0.01momen0.5.pt')"
      ],
      "execution_count": null,
      "outputs": []
    },
    {
      "cell_type": "code",
      "metadata": {
        "id": "y1KGD_i0qC36"
      },
      "source": [
        ""
      ],
      "execution_count": null,
      "outputs": []
    }
  ]
}